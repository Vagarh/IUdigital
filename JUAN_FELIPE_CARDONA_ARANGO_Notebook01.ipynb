{
  "cells": [
    {
      "cell_type": "markdown",
      "source": [
        "<div align=\"left\">\n",
        "<p><img alt=\"IUDigital\" height=\"140px\" src=\"https://www.iudigital.edu.co/Style%20Library/images/logo-escudo.png\" align=\"left\" hspace=\"10px\" vspace=\"0px\"></p></div>\n",
        "<div> </div>\n",
        "<div align=\"right\">\n",
        "<p><img alt=\"Posgrado\" height=\"140px\" src=\"https://www.iudigital.edu.co/OfertaEducativa/PublishingImages/Paginas/Especializacion-En-Analitica-y-Big-Data/19072021_Posgrados_Big_Data_1200px.jpg\" align=\"right\" hspace=\"10px\" vspace=\"10px\"></p></div>\n",
        "<br></br>\n",
        "<br></br>\n",
        "<br></br>\n",
        "<br></br>\n",
        "<p>\n",
        "<h1> <b> Nivelatorio en Programación con Python </b> </h1>\n",
        "<hr size=10 noshade color=\"red\">\n",
        "</p>\n",
        "<p>\n",
        "<img alt=\"CC\" height=\"70px\" src=\"https://creativecommons.org/images/deed/cc_blue_x2.png\" align=\"left\" hspace=\"0px\" vspace=\"0px\">\n",
        "<img alt=\"Attribution\" height=\"70px\" src=\"https://creativecommons.org/images/deed/attribution_icon_blue_x2.png\" align=\"left\" hspace=\"0px\" vspace=\"0px\">\n",
        "<img alt=\"NC\" height=\"70px\" src=\"https://creativecommons.org/images/deed/nc_blue_x2.png\" align=\"left\" hspace=\"0px\" vspace=\"0px\">\n",
        "<img alt=\"SA\" height=\"70px\" src=\"https://creativecommons.org/images/deed/sa_blue_x2.png\" align=\"left\" hspace=\"0px\" vspace=\"0px\">\n",
        "</p>\n",
        "\n",
        "<div align=\"right\">\n",
        "<h1> <b> Por: Julián Andrés Castillo G. </b> </h1>\n",
        "<h2> Docente Ocasional </h2>\n",
        "<a href=\"mailto:julian.castillo@iudigital.edu.co\"> ✉ Julian Andres Castillo Grisales </a> \n",
        "</div>\n",
        "\n",
        "<br>\n",
        "\n",
        "**El presente curso hace parte del posgrado Especialización en Analítica y Big Data de la Institución Universitaria Digital de Antioquia.**\n",
        "\n",
        "**Los documentos que utilizaremos en la presente y próximas clases son una mezcla del trabajo de muchos profesores y académicos.**\n",
        "\n",
        "**En caso de utilizar el presente contenido favor citarlo y brindar los créditos respectivos.**"
      ],
      "metadata": {
        "id": "U99IHoHw2VvD"
      }
    },
    {
      "cell_type": "markdown",
      "metadata": {
        "id": "ehytH5w7kn6x"
      },
      "source": [
        "<p><a name=\"contents\"></a></p>\n",
        "\n",
        "# **Contenido Cuaderno de práctica 1**\n",
        "\n",
        "- <a href=\"#s1\">1. Introducción a Google Colab</a><br>\n",
        "- <a href=\"#s2\">2. Lenguaje de programación Python</a><br>\n",
        "- <a href=\"#s3\">3. Introducción a Python</a><br>\n",
        "- <a href=\"#s4\">4. Google Colab con Python - Un entorno relacionado de Ipython y Jupyter Notebooks</a><br>\n",
        "- <a href=\"#s5\">5. Concepto de Algoritmo</a><br>"
      ]
    },
    {
      "cell_type": "markdown",
      "source": [],
      "metadata": {
        "id": "fn2nXKeNpUhr"
      }
    },
    {
      "cell_type": "code",
      "source": [
        "print('Hola Jovenes')"
      ],
      "metadata": {
        "id": "9ypeN7Mlpb8G"
      },
      "execution_count": null,
      "outputs": []
    },
    {
      "cell_type": "markdown",
      "metadata": {
        "id": "NgkBpxJTm7RR"
      },
      "source": [
        "<p><a name=\"s1\"></a></p>\n",
        "\n",
        "# **1. Introducción a Google Colab**\n",
        "*Tomado de la página oficial de Google Colab* --> [Google Colab](https://colab.research.google.com/notebooks/intro.ipynb)<br>\n",
        "[[Contenidos]](#contents)"
      ]
    },
    {
      "cell_type": "markdown",
      "metadata": {
        "id": "Dahx2tSuprHw"
      },
      "source": [
        "<p><img alt=\"Colaboratory logo\" height=\"45px\" src=\"/img/colab_favicon.ico\" align=\"left\" hspace=\"10px\" vspace=\"0px\"></p>\n",
        "\n",
        "<h1>¿Qué es Colaboratory?</h1>\n",
        "\n",
        "Colaboratory, también llamado Colab, te permite escribir y ejecutar código de Python en un navegador, con las siguientes particularidades:\n",
        "- Sin configuración requerida.\n",
        "- Acceso gratuito a GPU.\n",
        "- Facilidad para compartir.\n",
        "\n",
        "Seas <strong>estudiante</strong>, <strong>científico de datos</strong> o <strong>investigador de IA</strong>, Colab facilita tu trabajo. Mira <a href=\"https://www.youtube.com/watch?v=inN8seMm7UI\">este video introductorio sobre Colab</a> para obtener más información, o bien comienza a usarlo más abajo."
      ]
    },
    {
      "cell_type": "code",
      "execution_count": null,
      "metadata": {
        "id": "1Q11qisbqMbB"
      },
      "outputs": [],
      "source": [
        "seconds_in_a_day = 24 * 60 * 60\n",
        "print('Los segundos en un dia son:',seconds_in_a_day)"
      ]
    },
    {
      "cell_type": "markdown",
      "metadata": {
        "id": "UVpaBXCAqOQI"
      },
      "source": [
        "A fin de ejecutar el código en la celda anterior, haz clic en él para seleccionarlo y luego presiona el botón de reproducción ubicado a la izquierda del código o usa la combinación de teclas \"Command/Ctrl + Intro\". Para editar el código, solo haz clic en la celda y comienza a editar.\n",
        "\n",
        "Las variables que defines en una celda pueden usarse en otras:"
      ]
    },
    {
      "cell_type": "code",
      "execution_count": null,
      "metadata": {
        "id": "m19VZA7NqQD4"
      },
      "outputs": [],
      "source": [
        "seconds_in_a_week = 7 * seconds_in_a_day\n",
        "seconds_in_a_week"
      ]
    },
    {
      "cell_type": "markdown",
      "metadata": {
        "id": "y_6pvEQAqTdU"
      },
      "source": [
        "Los notebooks de Colab te permiten combinar <strong>código ejecutable</strong> y <strong>texto enriquecido</strong> en un único documento, junto con <strong>imágenes</strong>, <strong>HTML</strong>, <strong>LaTeX</strong> y mucho más. Los notebooks que crees en Colab se almacenan en tu cuenta de Google Drive. Puedes compartir fácilmente los notebooks de Colab con amigos o compañeros de trabajo para que realicen comentarios o los editen. Si quieres obtener más información, consulta la <a href=\"/notebooks/basic_features_overview.ipynb\">Descripción general de Colab</a>. Para crear un nuevo notebook de Colab, ve al menú Archivo que aparece más arriba o usa este vínculo: <a href=\"http://colab.research.google.com#create=true\">crear un nuevo notebook de Colab</a>.\n",
        "\n",
        "Los notebooks de Colab son notebooks de Jupyter que aloja Colab. Para obtener más información sobre el proyecto Jupyter, visita <a href=\"https://www.jupyter.org\">jupyter.org</a>."
      ]
    },
    {
      "cell_type": "markdown",
      "metadata": {
        "id": "-YiHvugcrCtL"
      },
      "source": [
        "## Ciencia de datos\n",
        "\n",
        "Con Colab, puedes aprovechar por completo las bibliotecas más populares de Python para analizar y visualizar datos. La celda de código que se incluye a continuación usa <strong>NumPy</strong> para generar algunos datos aleatorios y <strong>matplotlib</strong> para visualizarlos. Para editar el código, haz clic en la celda y comienza a editar."
      ]
    },
    {
      "cell_type": "code",
      "execution_count": null,
      "metadata": {
        "id": "O39hXLbDrEry"
      },
      "outputs": [],
      "source": [
        "import numpy as np\n",
        "from matplotlib import pyplot as plt\n",
        "\n",
        "ys = 200 + np.random.randn(100)\n",
        "x = [x for x in range(len(ys))]\n",
        "\n",
        "plt.plot(x, ys, '-')\n",
        "plt.fill_between(x, ys, 195, where=(ys > 195), facecolor='g', alpha=0.6)\n",
        "\n",
        "plt.title(\"Sample Visualization\")\n",
        "plt.show()"
      ]
    },
    {
      "cell_type": "markdown",
      "metadata": {
        "id": "hgUmSonOrKuW"
      },
      "source": [
        "Puedes importar datos propios a notebooks de Colab desde tu cuenta de Google Drive &#40;incluso desde hojas de cálculos&#41;, GitHub y muchas otras fuentes. Para obtener más información acerca de la importación de datos y cómo puede usarse Colab para fines relacionados con la ciencia de datos, consulta los vínculos de <a href=\"#working-with-data\">Cómo trabajar con datos</a>."
      ]
    },
    {
      "cell_type": "markdown",
      "metadata": {
        "id": "jwalAbnxrOsU"
      },
      "source": [
        "## Aprendizaje automático\n",
        "\n",
        "Colab te permite importar un conjunto de datos de imágenes, entrenar un clasificador de imágenes en él y evaluar el modelo con solo <a href=\"https://colab.research.google.com/github/tensorflow/docs/blob/master/site/en/tutorials/quickstart/beginner.ipynb\">unas pocas líneas de código</a>. Los notebooks de Colab ejecutan código en los servidores alojados en la nube de Google, lo que significa que puedes aprovechar al máximo el hardware de Google, incluidas las <a href=\"#using-accelerated-hardware\">GPU y TPU</a>, independientemente de la potencia de tu máquina. Lo único que necesitas es un navegador."
      ]
    },
    {
      "cell_type": "markdown",
      "metadata": {
        "id": "fkYBieu2rQ4P"
      },
      "source": [
        "Entre los usos que tiene Colab en la comunidad de aprendizaje automático, se encuentran los siguientes:\n",
        "- Introducción a TensorFlow.\n",
        "- Desarrollo y entrenamiento de redes neuronales.\n",
        "- Experimentación con TPU.\n",
        "- Diseminación de investigación de IA.\n",
        "- Creación de instructivos.\n",
        "\n",
        "Para ver notebooks de Colab que usan como ejemplo el aprendizaje automático, consulta los <a href=\"#machine-learning-examples\">ejemplos</a> que se incluyen a continuación."
      ]
    },
    {
      "cell_type": "markdown",
      "metadata": {
        "id": "xKmxF_gIrT3I"
      },
      "source": [
        "## Más recursos\n",
        "\n",
        "### Cómo trabajar con notebooks en Colab\n",
        "- [Descripción general de Colaboratory](/notebooks/basic_features_overview.ipynb)\n",
        "- [Guía para usar Markdown](/notebooks/markdown_guide.ipynb)\n",
        "- [Cómo importar bibliotecas y luego instalar dependencias](/notebooks/snippets/importing_libraries.ipynb)\n",
        "- [Cómo guardar y cargar notebooks en GitHub](https://colab.research.google.com/github/googlecolab/colabtools/blob/master/notebooks/colab-github-demo.ipynb)\n",
        "- [Formularios interactivos](/notebooks/forms.ipynb)\n",
        "- [Widgets interactivos](/notebooks/widgets.ipynb)\n",
        "- <img src=\"/img/new.png\" height=\"20px\" align=\"left\" hspace=\"4px\" alt=\"New\"></img>\n",
        " [TensorFlow 2 en Colab](/notebooks/tensorflow_version.ipynb)\n",
        "\n",
        "<a name=\"working-with-data\"></a>\n",
        "### Cómo trabajar con datos\n",
        "- [Cómo cargar datos: Drive, Hojas de cálculo y Google Cloud Storage](/notebooks/io.ipynb) \n",
        "- [Gráficos: visualización de datos](/notebooks/charts.ipynb)\n",
        "- [Cómo comenzar a usar BigQuery](/notebooks/bigquery.ipynb)\n",
        "\n",
        "### Curso intensivo de aprendizaje automático\n",
        "Estos son algunos de los notebooks del curso de aprendizaje automático en línea de Google. Para obtener más información, consulta el <a href=\"https://developers.google.com/machine-learning/crash-course/\">sitio web del curso completo</a>.\n",
        "- [Introducción a Pandas](/notebooks/mlcc/intro_to_pandas.ipynb)\n",
        "- [Conceptos de TensorFlow](/notebooks/mlcc/tensorflow_programming_concepts.ipynb)\n",
        "- [Primeros pasos con TensorFlow](/notebooks/mlcc/first_steps_with_tensor_flow.ipynb)\n",
        "- [Introducción a las redes neuronales](/notebooks/mlcc/intro_to_neural_nets.ipynb)\n",
        "- [Introducción a los datos dispersos y las incorporaciones](/notebooks/mlcc/intro_to_sparse_data_and_embeddings.ipynb)\n",
        "\n",
        "<a name=\"using-accelerated-hardware\"></a>\n",
        "### Uso de aceleración de hardware\n",
        "- [TensorFlow con GPU](/notebooks/gpu.ipynb)\n",
        "- [TensorFlow con TPU](/notebooks/tpu.ipynb)"
      ]
    },
    {
      "cell_type": "markdown",
      "metadata": {
        "id": "kvmO8yjGrXOt"
      },
      "source": [
        "<a name=\"machine-learning-examples\"></a>\n",
        "\n",
        "## Ejemplos de aprendizaje automático\n",
        "\n",
        "Para ver ejemplos de extremo a extremo de los análisis de aprendizaje automático interactivo que Colaboratory permite realizar, consulta estos instructivos con modelos de <a href=\"https://tfhub.dev\">TensorFlow Hub</a>.\n",
        "\n",
        "Algunos ejemplos destacados son los siguientes:\n",
        "\n",
        "- <a href=\"https://tensorflow.org/hub/tutorials/tf2_image_retraining\">Reentrenamiento de un clasificador de imágenes</a>: compila un modelo de Keras sobre un clasificador de imágenes previamente entrenado para distinguir flores.\n",
        "- <a href=\"https://tensorflow.org/hub/tutorials/tf2_text_classification\">Clasificación de texto</a>: clasifica opiniones sobre películas de IMDB como <em>positivas</em> o <em>negativas</em>.\n",
        "- <a href=\"https://tensorflow.org/hub/tutorials/tf2_arbitrary_image_stylization\">Transferencia de estilos</a>: usa el aprendizaje profundo para transferir el estilo de una imagen a otra.\n",
        "- <a href=\"https://tensorflow.org/hub/tutorials/retrieval_with_tf_hub_universal_encoder_qa\">Codificador universal de oraciones en varios idiomas para preguntas y respuestas</a>: usa un modelo de aprendizaje automático para responder preguntas del conjunto de datos SQuAD.\n",
        "- <a href=\"https://tensorflow.org/hub/tutorials/tweening_conv3d\">Interpolación de videos</a>: predice lo que sucedió en un video entre el primer y el último fotograma.\n",
        "\n",
        "Tomado de [Gooble Colab Bienvenida](https://colab.research.google.com/notebooks/intro.ipynb)\n"
      ]
    },
    {
      "cell_type": "markdown",
      "metadata": {
        "id": "RniT4egCqBP8"
      },
      "source": [
        "<p><a name=\"s2\"></a></p>\n",
        "\n",
        "# **2. Lenguaje de programación Python**\n",
        "\n",
        "[[Contenidos]](#contents)"
      ]
    },
    {
      "cell_type": "markdown",
      "metadata": {
        "id": "Ox7uxWQUp2MP"
      },
      "source": [
        "## <strong>Introducción</strong>\n",
        "\n",
        "El documento que estás leyendo no es una página web estática, sino un entorno interactivo denominado <strong>notebook de Colab</strong>, que permite escribir y ejecutar código.\n",
        "\n",
        "Por ejemplo, esta es una <strong>celda de código</strong> con una secuencia de comandos Python corta que calcula un valor, lo almacena en una variable y devuelve el resultado:"
      ]
    },
    {
      "cell_type": "code",
      "execution_count": null,
      "metadata": {
        "id": "6hB5cS-Qr03z"
      },
      "outputs": [],
      "source": [
        "# Clic en el botón (►) play para ejecutar\n",
        "a=22\n",
        "b=11\n",
        "c=a+b\n",
        "print(a, \"+\", b,\"El resultado es:\",c)"
      ]
    },
    {
      "cell_type": "markdown",
      "metadata": {
        "id": "VO6T8ZY5nEcG"
      },
      "source": [
        "<p>Python es un lenguaje de programación interpretado cuya filosofía hace hincapié en la legibilidad de su código.​ Se trata de un lenguaje de programación multiparadigma, ya que soporta orientación a objetos, programación imperativa y, en menor medida, programación funcional. Es un lenguaje interpretado, dinámico y multiplataforma. \n",
        "Es administrado por Python Software Foundation. Posee una licencia de código abierto, denominada Python Software Foundation License.</p>\n",
        "<div align=\"center\"> \n",
        "<img alt=\"PythonLogo\" height=\"200px\" src=\"https://upload.wikimedia.org/wikipedia/commons/c/c3/Python-logo-notext.svg\" align=\"center\" hspace=\"0px\" vspace=\"0px\">\n",
        "</div>​\n",
        "<p>Python fue creado a finales de los ochenta​ por Guido van Rossum en el Centro para las Matemáticas y la Informática (CWI, Centrum Wiskunde & Informatica), en los Países Bajos, como un sucesor del lenguaje de programación ABC, capaz de manejar excepciones e interactuar con el sistema operativo Amoeba.\n",
        "El nombre del lenguaje proviene de la afición de su creador por los humoristas británicos Monty Python.\n",
        "Van Rossum es el principal autor de Python, y su continuo rol central en decidir la dirección de Python es reconocido, refiriéndose a él como Benevolente Dictador Vitalicio (en inglés: Benevolent Dictator for Life, BDFL); sin embargo el 12 de julio de 2018 declinó de dicha situación de honor sin dejar un sucesor o sucesora y con una declaración altisonante: Entonces, ¿qué van a hacer todos ustedes? ¿Crear una democracia? ¿Anarquía? ¿Una dictadura? ¿Una federación? Guido van Rossum. </p>\n",
        "\n",
        "Tomado de [Wikipedia](https://es.wikipedia.org/wiki/Python)"
      ]
    },
    {
      "cell_type": "markdown",
      "metadata": {
        "id": "BdFw-oN-Xc9o"
      },
      "source": [
        "## <strong>Lenguajes de programación</strong>\n",
        "\n",
        "Para poder definir Python como un lenguaje de programación, debemos detallar y definir los lenguajes de programación y su definicion se detalla a continuación:"
      ]
    },
    {
      "cell_type": "markdown",
      "metadata": {
        "id": "TIfeZMV0YWNS"
      },
      "source": [
        "## <strong>¿Qué es un lenguaje de programación?</strong>\n",
        "Un lenguaje de programación es un lenguaje formal (o artificial, es decir, un lenguaje con reglas gramaticales bien definidas) que le proporciona a una persona, en este caso el programador, la capacidad de escribir (o programar) una serie de instrucciones o secuencias de órdenes en forma de algoritmos, con el fin de controlar el comportamiento físico o lógico de una computadora, de manera que se puedan obtener diversas clases de datos o ejecutar determinadas tareas. A todo este conjunto de órdenes escritas mediante un lenguaje de programación se le denomina programa.\n",
        "\n",
        "Tomado de [Wikipedia](https://es.wikipedia.org/wiki/Lenguaje_de_programaci%C3%B3n)"
      ]
    },
    {
      "cell_type": "markdown",
      "metadata": {
        "id": "afHbIM0gYkib"
      },
      "source": [
        "## <strong>Tipos de Lenguajes de Programación</strong>\n",
        "\n",
        "Los lenguajes de programación pueden ser clasificados de acuerdo a\n",
        "como son usados por la máquina o sistema operativo:\n",
        "\n",
        "* Interpretados: las instrucciones son traducidas una a\n",
        "una por una aplicación (intérprete). Ejemplos: Python, Perl, Bash.\n",
        "* Compilados: las instrucciones son traducidas en grupo\n",
        "por una aplicación (compilador). Ejemplos: Fortran, C/C++.\n",
        "* Intermedios: en parte compilados, en parte\n",
        "interpretados. Ejemplos: Java, Scala.\n",
        "<div align=\"center\"> \n",
        "<img alt=\"TiposLenguajeCompiladoInterpretadoIntermedio\" height=\"600px\" src=\"https://edteam-media.s3.amazonaws.com/blogs/original/4278f0b3-b02e-4349-8d3c-6b924e3c2865.jpg\" align=\"center\" hspace=\"0px\" vspace=\"0px\">\n",
        "</div><br>\n",
        "Los lenguajes de programación también pueden ser clasificados de\n",
        "acuerdo a su nivel de abstracción:\n",
        "* Alto nivel: la información compleja es representada\n",
        "con objetos simples. Ejemplos: Python, C++, C#, Java.\n",
        "* Bajo nivel: la información compleja debe\n",
        "representarse literalmente. Ejemplos: Assembly y Machine.\n",
        "<div align=\"center\"> \n",
        "<img alt=\"TiposLenguajeAltoBajo\" height=\"600px\" src=\"https://edteam-media.s3.amazonaws.com/community/original/3f58b5a2-7490-4492-a609-7ba07c89ea0b.jpg\" align=\"center\" hspace=\"0px\" vspace=\"0px\">\n",
        "</div><br>"
      ]
    },
    {
      "cell_type": "markdown",
      "metadata": {
        "id": "JJmU99a0chgr"
      },
      "source": [
        "<p><a name=\"s3\"></a></p>\n",
        "\n",
        "# **3. Qué es Python**\n",
        "\n",
        "[[Contenidos]](#contents)"
      ]
    },
    {
      "cell_type": "markdown",
      "metadata": {
        "id": "paCMvqLQPgJc"
      },
      "source": [
        "\n",
        "## <strong>Python es:</strong>\n",
        "\n",
        "* Lenguaje de Alto nivel.\n",
        "* Lenguaje interpretado (scripts).\n",
        "* Software Libre (GPL).\n",
        "* Multiplataforma (Sistema Operativo y Online).\n",
        "* Programación orientada a objetos.\n",
        "\n",
        "**Puntos fuertes**\n",
        "\n",
        "Analítica, Ciencia de Datos, Gráficas, Machine learning, Instrumental, Software cientifico, Comunidad.\n",
        "\n",
        "**Puntos débiles**\n",
        "\n",
        "Programación del alto performance (que se puede solventar con el uso de Wrappers o funciones vectorizadas).\n"
      ]
    },
    {
      "cell_type": "markdown",
      "metadata": {
        "id": "cJ6edMRLkVq7"
      },
      "source": [
        "## <strong>De donde descargo Python</strong>\n",
        "Para utilizar Python en nuestro desarrollo podemos hacer tres cosas.\n",
        "\n",
        "\n",
        "Instalar Python en nuestro computador (Windows, Mac, Linux u otro), luego instalar un entorno de desarrollo integrado o entorno de desarrollo interactivo, en inglés Integrated Development Environment (IDE), que permita desarrollo con el lenguaje de programación Python, tales como (solo se muestran opciones gratuitas e IDE, no se muestran editores de texto):\n",
        "\n",
        "<strong>Pydev</strong>: es un complemento de terceros para Eclipse. Es un entorno de desarrollo integrado (IDE), utilizado para la programación en Python que admite la refactorización de código, la depuración gráfica, el análisis de código, entre otras características.<br>\n",
        "Página Web [PyDev](http://pydev.org/)<br>\n",
        "<div align=\"center\"> \n",
        "<img alt=\"PyDev\" height=\"100px\" src=\"https://upload.wikimedia.org/wikipedia/en/c/c7/Pydev_logo.png\" align=\"center\" hspace=\"0px\" vspace=\"0px\">\n",
        "</div><br>\n",
        "\n",
        "<strong>Vistual Studio Code</strong>: es un editor de código fuente, desarrollado por Microsoft para Windows, Linux y macOS. Incluye soporte para la depuración, control integrado de Git, resaltado de sintaxis, finalización inteligente de código, fragmentos y refactorización de código. También es personalizable, por lo que los usuarios pueden cambiar el tema del editor, los atajos de teclado y las preferencias. Es gratuito y de código abierto,  aunque la descarga oficial está bajo software privativo e incluye características personalizadas por Microsoft.<br>\n",
        "Página Web [VS Code](ttps://code.visualstudio.com/)<br>\n",
        "<div align=\"center\"> \n",
        "<img alt=\"VS Code\" height=\"100px\" src=\"https://code.visualstudio.com/assets/favicon.ico\" align=\"center\" hspace=\"0px\" vspace=\"0px\">\n",
        "</div><br>\n",
        "<strong>Atom/Atom-IDE</strong>: es un editor de código fuente, de código abierto para macOS, Linux, y Windows, con soporte para múltiples plug-in escritos en Node.js y control de versiones Git integrado, desarrollado por GitHub. Atom es una aplicación de escritorio construida utilizando tecnologías web.\n",
        "\n",
        "Página Web [Atom](https://atom.io/)<br>\n",
        "\n",
        "<br>\n",
        "<div align=\"center\"> \n",
        "<img alt=\"Atom\" height=\"100px\" src=\"https://upload.wikimedia.org/wikipedia/commons/e/eb/Atom_icon.svg\" align=\"center\" hspace=\"0px\" vspace=\"0px\">\n",
        "</div><br>\n",
        "<strong>IDLE</strong>: (abreviatura de Integrated Development and Learning Environment, en español: «Entorno integrado de desarrollo y aprendizaje») es un entorno de desarrollo integrado para Python, que se incluye con la implementación predeterminada del lenguaje desde la versión 1.5.2. está empaquetado como una parte opcional del paquete de Python con muchas distribuciones de Linux. IDLE está destinado a ser un entorno de desarrollo integrado simple y enfocado para su uso por parte de usuarios principiantes, especialmente en un entorno educativo. Con ese fin, es multiplataforma y evita la sobrecarga de funcionalidades.<br>\n",
        "Página Web [IDLE](https://docs.python.org/3/library/idle.html)<br>\n",
        "\n",
        "Página Web [IDLE Python](https://docs.python.org/3/library/idle.html)<br>\n",
        "<div align=\"center\"> \n",
        "<img alt=\"VS Code\" height=\"100px\" src=\"https://www.python.org/static/img/python-logo.png\" align=\"center\" hspace=\"0px\" vspace=\"0px\">\n",
        "</div><br>\n",
        "<strong>Spyder</strong>: es un entorno de desarrollo integrado (IDE) multiplataforma de código abierto para programación científica en el lenguaje Python. Spyder se integra con varios paquetes destacados en la pila científica de Python, incluidos NumPy, SciPy, Matplotlib, pandas, IPython, SymPy y Cython, así como otro software de código abierto. Se publica bajo la licencia MIT.<br>\n",
        "Página Web [Spyder](https://github.com/spyder-ide/spyder)<br>\n",
        ">![Spyder Logo](https://upload.wikimedia.org/wikipedia/commons/7/7e/Spyder_logo.svg)\n",
        "\n",
        "Página Web [Spyder](https://www.spyder-ide.org/)<br>\n",
        "<div align=\"center\"> \n",
        "<img alt=\"Spyder\" height=\"100px\" src=\"https://upload.wikimedia.org/wikipedia/commons/7/7e/Spyder_logo.svg\" align=\"center\" hspace=\"0px\" vspace=\"0px\">\n",
        "</div><br>\n",
        "<strong>Thonny</strong>: es un entorno de desarrollo integrado para Python que está diseñado para principiantes. Admite diferentes formas de recorrer el código, evaluación de expresiones paso a paso, visualización detallada de la lista de llamadas y un modo para explicar los conceptos de referencias y pilas.<br>\n",
        "\n",
        "Página Web [Thonny](https://thonny.org)<br>\n",
        "<div align=\"center\"> \n",
        "<img alt=\"Thonny\" height=\"100px\" src=\"https://upload.wikimedia.org/wikipedia/commons/e/e2/Thonny_logo.png\" align=\"center\" hspace=\"0px\" vspace=\"0px\">\n",
        "</div><br>\n",
        "\n",
        "## <strong>Gestor de paquetes</strong>\n",
        "\n",
        "Instalar un gestor de paquetes, el gestor más común y utilizado en el entorno de desarrollo de Python es Anaconda.\n",
        "\n",
        "<strong>Anaconda</strong>: es una distribución libre y abierta de los lenguajes Python y R, utilizada en ciencia de datos, y aprendizaje automático (machine learning). Esto incluye procesamiento de grandes volúmenes de información, análisis predictivo y cómputos científicos. Está orientado a simplificar el despliegue y administración de los paquetes de software. Las diferentes versiones de los paquetes se administran mediante el sistema de gestión de paquetes conda, el cual lo hace bastante sencillo de instalar, correr, y actualizar software de ciencia de datos y aprendizaje automático como Scikit-team, TensorFlow y SciPy. La distribución Anaconda es utilizada por 6 millones de usuarios e incluye más de 250 paquetes de ciencia de datos válidos para Windows, Linux y macOS.<br>\n",
        "Pagina Web [Anaconda](https://www.anaconda.com/)<br>\n",
        "![Anaconda Logo](https://upload.wikimedia.org/wikipedia/en/c/cd/Anaconda_Logo.png)\n",
        "<br>\n",
        "<br>\n",
        "<strong>Resumen en HTML</strong><br>\n",
        "<table>\n",
        "  <tbody>\n",
        "  <tr>\n",
        "\t  <td><strong>Python IDE Gratis</strong></td>\n",
        "\t  <td><strong>Python IDE Para Mac</strong></td>\n",
        "\t  <td><strong>Python IDE Para Windows</strong></td>\n",
        "  </tr>\n",
        "  <tr>\n",
        "\t  <td>\n",
        "\t\t  <ul>\n",
        "        <li>PyDev</li>\n",
        "        <li>Visual Studio Code</li>\n",
        "        <li>Spyder</li>\n",
        "        <li>Thonny</li>\n",
        "        <li>Anaconda</li>\n",
        "\t\t  </ul>\n",
        "\t  </td>\n",
        "\t  <td>\n",
        "\t\t  <ul>\n",
        "        <li>PyDev</li>\n",
        "        <li>Pycharm*</li>\n",
        "        <li>Visual Studio Code</li>\n",
        "        <li>Spyder</li>\n",
        "        <li>Thonny</li>\n",
        "        <li>Anaconda</li>\n",
        "\t\t  </ul>\n",
        "\t  </td>\n",
        "\t  <td>\n",
        "\t\t  <ul>\n",
        "\t\t  <li>PyDev</li>\n",
        "\t\t  <li>Pycharm*</li>\n",
        "\t\t  <li>Visual Studio Code</li>\n",
        "\t\t  <li>Spyder</li>\n",
        "\t\t  <li>Thonny</li>\n",
        "      <li>Anaconda</li>\n",
        "\t\t  </ul>\n",
        "\t  </td>\n",
        " </tr>\n",
        "  </tbody>\n",
        "</table>\n",
        "\n",
        "<strong>Resumen en Markdown (*De Pago)</strong>\n",
        "\n",
        "Python IDE Gratis | Python IDE Para Mac | Python IDE Para Windows\n",
        "--- | --- | ---\n",
        "PyDev | Pydev | PyDev\n",
        "Visual Studio Code | Visual Studio Code | PyDev\n",
        "Spyder | Spyder | Spyder \n",
        "Thonny | Thonny | Thonny \n",
        "Anaconda | Anaconda | Anaconda \n",
        " | Pycharm* | Pycharm* "
      ]
    },
    {
      "cell_type": "markdown",
      "metadata": {
        "id": "lK5GGBwG9Z4d"
      },
      "source": [
        "## <strong>Python en la Web</strong>\n"
      ]
    },
    {
      "cell_type": "markdown",
      "metadata": {
        "id": "HcI0Ex_y9vJv"
      },
      "source": [
        "Usar Python en la web, para este caso podemos usar un entorno colaborativo o un intérprete web, si se desea utilizar un intérprete web, la mejor opción es Repl.it y si por el contrario se prefiere un entorno colaborativo y dinámico, la mejor opción es Google Colab. A continuación, se describen ambos.\n",
        "\n",
        "<strong>Repl.it</strong>: un IDE en línea (entorno de desarrollo integrado). Su nombre proviene del acrónimo REPL, que significa \"read–evaluate–print loop\" (\"bucle de lectura-evaluación-impresión\"). El servicio fue creado por el programador Jordano Amjad Masad y la diseñadora jordana Haya Odeh en 2016. Repl.it permite a los usuarios escribir código y crear aplicaciones y sitios web utilizando un navegador. Además, Repl.it permite a los usuarios compartir proyectos de varias formas. También organizan \"jams\", concursos de codificación basados en un tema determinado. Los premios del concurso a menudo varían desde una actualización temporal de la cuenta, dinero, criptomonedas o una tarjeta de regalo. Los \"jams\" hechos por la comunidad también se alojan a veces en repl talk, con el mismo propósito. Un \"Repl\" en Repl.it es un entorno de programación interactivo. Puede crear un espacio de trabajo en los lenguajes de programación más populares, donde se le proporciona un contenedor en una máquina virtual donde se puede ejecutar su código. En cualquier Repl, hay dos partes principales: el editor y la consola.<br>\n",
        "\n",
        "[Repl.it Logo](https://upload.wikimedia.org/wikipedia/commons/b/b2/Repl.it_logo.svg)\n",
        "\n",
        "Página Web [Repl.it](https://replit.com/)<br>\n",
        "<div align=\"center\"> \n",
        "<img alt=\"Thonny\" height=\"100px\" src=\"https://upload.wikimedia.org/wikipedia/commons/b/b2/Repl.it_logo.svg\" align=\"center\" hspace=\"0px\" vspace=\"0px\">\n",
        "</div><br>\n",
        "\n",
        "<strong>IPython IP[y]:</strong> IPython es un shell interactivo que añade funcionalidades extra al modo interactivo incluido con Python, como resaltado de líneas y errores mediante colores, una sintaxis adicional para el shell, autocompletado mediante tabulador de variables, módulos y atributos; entre otras funcionalidades. Es un componente del paquete SciPy.<br>\n",
        "El Proyecto Jupyter es una organización sin ánimo de lucro creada para \"desarrollar software de código abierto, estándares abiertos y servicios para computación interactiva en docenas de lenguajes de programación\". Según el sitio web del Proyecto Jupyter, \"Jupyter siempre será un software 100% de código abierto, de uso gratuito para todos y lanzado bajo los términos liberales de la licencia BSD modificada\".\n",
        "Fernando Pérez es un físico, desarrollador de software y promotor del software libre y creador de IPython. [**Fernando Pérez**](https://es.wikipedia.org/wiki/Fernando_P%C3%A9rez_(programador)) nació en Medellín, Colombia y realizó su pregrado en Física en la Universidad de Antioquia (1994) y su maestría en Física en la misma universidad Colombiana (1996). Posteriormente, obtuvo el título de doctorado en física de partículas de la Universidad de Colorado en Boulder (2002).<br>\n",
        "\n",
        "Página Web [IP[y]:](https://ipython.org/)<br>\n",
        "<div align=\"center\"> \n",
        "<img alt=\"ipython\" height=\"100px\" src=\"https://ipython.org/_static/IPy_header.png\" align=\"center\" hspace=\"0px\" vspace=\"0px\">\n",
        "</div><br>\n",
        "\n",
        "<strong>Google Colaboratory (Google Colab)</strong>: Colaboratory (también conocido como Colab) es un entorno de notebook Jupyter gratuito que se ejecuta en la nube y almacena sus notebooks en Google Drive. Colab fue originalmente un proyecto interno de Google. Se intentó abrir todo el código como fuente abierta y trabajar más directamente en sentido ascendente, lo que llevó al desarrollo de la extensión de Google Chrome \"Open in Colab\", pero esto finalmente terminó y el desarrollo de Colab continuó internamente. A partir de octubre de 2019, la UI (User interface, interfaz de usuario) de Colaboratory solo le permite crear cuadernos con kernels de Python 2 y Python 3; sin embargo, si tiene un portátil cuya especificación de kernel sea IR o Swift, funcionará, ya que tanto R como Swift están instalados en el contenedor. El lenguaje Julia también puede funcionar en Colab (por ejemplo, con Python y GPU; las unidades de procesamiento de tensor de Google también funcionan con Julia en Colab).<br>\n",
        "\n",
        "Página Web [Google Colab](https://colab.research.google.com/)<br>\n",
        "<div align=\"center\"> \n",
        "<img alt=\"Colab\" height=\"200px\" src=\"https://colab.research.google.com/img/colab_favicon_256px.png\" align=\"center\" hspace=\"0px\" vspace=\"0px\">\n",
        "</div><br>\n"
      ]
    },
    {
      "cell_type": "markdown",
      "metadata": {
        "id": "11c4fObcpJog"
      },
      "source": [
        "<p><a name=\"s4\"></a></p>\n",
        "\n",
        "# **4. Google Colab con Python - Un entorno relacionado de Ipython y Jupyter Notebooks**\n",
        "Una interfaz notebook (también llamada 'cuaderno computacional' ) es un entorno virtual de cuaderno utilizado para la programación literaria.​ Combina la funcionalidad del software procesamiento de textos con ambos shell y kernel del lenguaje de programación de esa computadora portátil. Millones de personas usan interfaces de notebooks​ para analizar datos de ciencia, periodismo y educación. [Wikipedia]<br>\n",
        "[[Contenidos]](#contents)"
      ]
    },
    {
      "cell_type": "markdown",
      "metadata": {
        "id": "GZC3xjCxqI03"
      },
      "source": [
        "## <strong>Atajos para Google Colab:</strong>\n",
        "\n",
        "* Paleta de comandos: \"Ctrl+m+h\"\n",
        "* Celda de código abajo \"Ctrl+m+a\"\n",
        "* Celda de código arriba: \"Ctrl+m+b\"\n",
        "* Borrar celdas: \"Ctrl+m+d\"\n",
        "* Comentar: \"Crtl+/\" \n",
        "\n",
        "El símbolo **#** antes de una línea en las celdas de comandos indica que esa línea es un comentario y no debe interpretarse ni ejecutarse. "
      ]
    },
    {
      "cell_type": "markdown",
      "metadata": {
        "id": "RWbLkLAS0lRn"
      },
      "source": [
        "\n",
        "## <strong>Texto Enriquecido</strong>\n",
        "\n",
        "1. Los títulos se establecen con el símbolo `#`.\n",
        "2. Título de primer orden `#`, título de segundo orden `##`, título de tercer orden `###`.\n",
        "3. Las viñetas se establecen con el símbolo `*`.\n",
        "4. Las listas se establecen con números `1.`\n",
        "5. Para un formato código se usa la tilde grave `funcion()` (`)\n",
        "6. Si quiero escribir un texto en negrilla, debo encerrar dicho texto entre doble asteriscos (**Negrita**)\n",
        "7. Si quiero escribir un texto en cursiva, debo encerrar dicho texto ente arteriscos (*Cursiva*)\n",
        "8. La tripleta de tildes graves encierran códigos. Si se coloca el nombre en minúsculas del lenguaje se colorea.\n",
        ">```\n",
        "a = int()\n",
        "```\n",
        ">```python\n",
        "a = int() \n",
        "```\n",
        ">```r \n",
        "a <- function(x){\n",
        "  return(x)\n",
        "}\n",
        "```\n",
        "9. Los vínculos se relacionan con corchetes para el texto y entre paréntesis el vínculo relacionado `[texto del vínculo](https://)`\n",
        "10. Las imagénes son similares a los vínculos, se debe agregar un signo de admiracion `!` previo a los corchetes `![Imagen Texto](https://)`\n",
        "11. Las sangrías se relacionan con con el tag `>`\n",
        "12. Agregar una regla horizontal se realiza con triple guión `---`"
      ]
    },
    {
      "cell_type": "markdown",
      "metadata": {
        "id": "79bGhZOuysFE"
      },
      "source": [
        "## <strong>Ayudas</strong>\n",
        "\n",
        "El símbolo **?** antepuesto a un comando muestra en una ventana lateral el contexto de ayuda de dicho comando."
      ]
    },
    {
      "cell_type": "code",
      "execution_count": null,
      "metadata": {
        "id": "IIkS5W5Qy4lP"
      },
      "outputs": [],
      "source": [
        "? print"
      ]
    },
    {
      "cell_type": "markdown",
      "metadata": {
        "id": "n7BUEP1U4Qdb"
      },
      "source": [
        "## <strong>Antes de comenzar a programar</strong>\n",
        "\n",
        "<strong>Convención de nombres en programación</strong>\n",
        "<p>\n",
        "Es un conjunto de reglas para la elección de la secuencia de caracteres que se utiliza para identificadores que denoten variables, tipos, funciones y otras entidades en el código fuente y la documentación.\n",
        "\n",
        "Algunas de las razones para utilizar una convención de nombres (en lugar de permitir a los programadores elegir cualquier secuencia de caracteres) son:\n",
        "* Reducir el esfuerzo necesario para leer y entender el código fuente.\n",
        "* Mejorar la apariencia del código fuente (por ejemplo, al no permitir nombres excesivamente largos o abreviaturas poco claros).\n",
        "\n",
        "La elección de las convenciones de nombres puede ser un problema de enorme polémica, donde los partidarios de cada convención consideran la suya como la mejor y las demás inferiores. Coloquialmente, se dice que es una cuestión de dogma.​ Muchas empresas también han establecido su propio conjunto de convenciones para satisfacer mejor sus intereses.\n",
        "\n",
        "## <strong>En Python</strong>\n",
        "Para Python recomiendan [UpperCamelCase](https://es.wikipedia.org/wiki/Camel_case) para nombres de clases, CAPITALIZED_WITH_UNDERSCORES para las constantes y lowercase_separated_by_underscores para otros nombres. En Python, si un nombre está destinado a ser \"privado\", que está precedido de un guión bajo.\n",
        "\n",
        "[Wikipedia](https://es.wikipedia.org/wiki/Convenci%C3%B3n_de_nombres_(programaci%C3%B3n))\n",
        "\n",
        "## <strong>Notacion Húngara</strong>\n",
        "En programación informática, la notación húngara es un sistema usado normalmente para crear los nombres de variables. También se utiliza para nombrar las instancias de objetos en lenguajes de programación visuales, como por ejemplo Delphi. El nombre de la notación proviene del hecho de que su inventor, Charles Simonyi, nació en Hungría.\n",
        "Esta convención es muy poco utilizada en las viejas versiones de Delphi pero es muy utilizada por los programadores de Microsoft y, en particular, en la programación del sistema operativo Windows.\n",
        "Consiste en prefijos en minúsculas que se añaden a los nombres de las variables y que indican su tipo. El resto del nombre indica, lo más claramente posible, la función que realiza la variable.\n",
        "\n",
        "[Wikipedia](https://es.wikipedia.org/wiki/Notaci%C3%B3n_h%C3%BAngara)\n",
        "</p>"
      ]
    },
    {
      "cell_type": "markdown",
      "metadata": {
        "id": "Tu2oPyvFvCyw"
      },
      "source": [
        "## <strong>Magics</strong>\n",
        "<p>\n",
        "Para los usuarios de Jupyter: Los Magics son mejoras específicas y proporcionadas por el Kernel* de IPython. Si Magics está disponible en un Kernel es una decisión que toma el desarrollador del Kernel en función del Kernel. Para funcionar correctamente, Magics debe utilizar un elemento de sintaxis que no sea válido en el idioma subyacente. Por ejemplo, el Kernel de IPython usa el elemento de sintaxis (caracter porcentaje) % para Magics, ya que el símbolo no es un operador unario válido en Python. Sin embargo % podría tener significado en otros idiomas.</p>\n",
        "\n",
        "[Accede a la página web de IPython para validar los Magics](https://ipython.readthedocs.io/en/stable/interactive/magics.html) | [Kernel*](https://es.wikipedia.org/wiki/N%C3%BAcleo_(inform%C3%A1tica))\n",
        "\n",
        "<br>\n",
        "Algunos ejemplos\n"
      ]
    },
    {
      "cell_type": "code",
      "execution_count": null,
      "metadata": {
        "id": "Vmw1hNhWwrc0"
      },
      "outputs": [],
      "source": [
        "from IPython.display import YouTubeVideo\n",
        "# importamos la libreria de YouTube para mostrar un video embedido en la ventana.\n",
        "YouTubeVideo('jej8qlzlAGw')\n",
        "#Notesé que solo se debe registrar el codigo del video, no la url completa."
      ]
    },
    {
      "cell_type": "code",
      "execution_count": null,
      "metadata": {
        "id": "HWjAdcNY1vro"
      },
      "outputs": [],
      "source": [
        "YouTubeVideo('jej8qlzlAGw',width=800,height=400)\n",
        "#Podemos especificar el tamaño del video siempre y cuando comprenda la relación aspecto."
      ]
    },
    {
      "cell_type": "code",
      "execution_count": null,
      "metadata": {
        "id": "uBNhvRQ9EqGP"
      },
      "outputs": [],
      "source": [
        "#Contabilizar el tiempo de ejecución de un código\n",
        "%%time\n",
        "#Nos anticiparemos a algo de código en Python realizando un ciclo para verificar el tiempo de ejecución.\n",
        "batman = 0.0\n",
        "for i in range(10000):\n",
        "  batman = batman * i"
      ]
    },
    {
      "cell_type": "code",
      "execution_count": null,
      "metadata": {
        "id": "OEf2o4JOFhJv"
      },
      "outputs": [],
      "source": [
        "#Contabilizar el tiempo de ejecución de un código\n",
        "%%time\n",
        "#Nos anticiparemos a algo de código en Python realizando un ciclo para verificar el tiempo de ejecución.\n",
        "batman = 0.0\n",
        "for i in range(100000):\n",
        "  batman = batman * i"
      ]
    },
    {
      "cell_type": "code",
      "execution_count": null,
      "metadata": {
        "id": "G8AVK8c_FjoW"
      },
      "outputs": [],
      "source": [
        "#Contabilizar el tiempo de ejecución de un código\n",
        "\n",
        "%%time\n",
        "#Nos anticiparemos a algo de código en Python realizando un ciclo para verificar el tiempo de ejecución.\n",
        "batman = 0.0\n",
        "for i in range(1000000):\n",
        "  batman = batman * i"
      ]
    },
    {
      "cell_type": "code",
      "execution_count": null,
      "metadata": {
        "id": "WQvet-g-FqIG"
      },
      "outputs": [],
      "source": [
        "#Contabilizar el tiempo de ejecución de un código\n",
        "%%time\n",
        "#Nos anticiparemos a algo de código en Python realizando un ciclo para verificar el tiempo de ejecución.\n",
        "batman = 0.0\n",
        "for i in range(100000000):\n",
        "  batman = batman * i"
      ]
    },
    {
      "cell_type": "code",
      "execution_count": null,
      "metadata": {
        "id": "UBmg-CQvGqL5"
      },
      "outputs": [],
      "source": [
        "%who\n",
        "# Con Who detallamos todas las variables disponibles actualmente"
      ]
    },
    {
      "cell_type": "code",
      "execution_count": null,
      "metadata": {
        "id": "aRVVMnOtImmZ"
      },
      "outputs": [],
      "source": [
        "a = \"The Legend Of Zelda Breath of the Wild es el mejor juego de todos\"\n",
        "%pinfo a"
      ]
    },
    {
      "cell_type": "code",
      "execution_count": null,
      "metadata": {
        "id": "LQA1J0XJI591"
      },
      "outputs": [],
      "source": [
        "%lsmagic #Listar todos los comandos Magic"
      ]
    },
    {
      "cell_type": "markdown",
      "metadata": {
        "id": "jqx5HC_R7y8n"
      },
      "source": [
        "<p><a name=\"s5\"></a></p>\n",
        "\n",
        "# **5. Concepto de Algoritmo**\n",
        "El algoritmo es una abstracción, es decir, un modelo o forma de representar una parte de la realidad. Las realidades que se plantean en los algoritmos están relacionadas con la manera de resolver un “problema” en cualquier contexto. En otras palabras, al construir un algoritmo, se puede representar la solución a una situación en prácticamente cualquier área, desde la ingeniería hasta las ciencias sociales y humanas.\n",
        "\n",
        "De igual manera, el algoritmo se puede definir, en más detalle, como una secuencia de pasos que se deben ejecutar para resolver un conflicto, de manera sistemática, en un evento único donde las condiciones o restricciones de base de un problema de similar naturaleza sean las mismas, independiente de sus valores. Esto quiere decir que, aunque la cantidad y el tipo de condiciones sean iguales, no deberá importar su valor.\n",
        "<br>\n",
        "![Algoritmos](https://iudigital.instructure.com/courses/3853/files/859482/preview)\n",
        "[[Contenidos]](#contents)"
      ]
    },
    {
      "cell_type": "markdown",
      "metadata": {
        "id": "kZIMC1wG7_6N"
      },
      "source": [
        "## <strong>Los temas de esta unidad son los siguientes:</strong>\n",
        "\n",
        "Los temas de esta unidad son los siguientes:\n",
        "\n",
        "\n",
        "*   Concepto de algoritmo.\n",
        "*   Partes del algoritmo.\n",
        "*   Formas de representación.\n",
        "*   Estructuras algorítmicas.\n",
        "*   Entornos de desarrollo."
      ]
    },
    {
      "cell_type": "markdown",
      "metadata": {
        "id": "AJtwC0bj8pJV"
      },
      "source": [
        "## <strong>Concepto de algoritmo</strong>\n",
        "\n",
        "Para plantear la estructura básica del algoritmo, podemos identificar tres elementos básicos: entradas, procesos y salidas.\n",
        "\n",
        "![Algoritmo](https://iudigital.instructure.com/courses/3853/files/859495/preview)\n",
        "\n",
        "![Algoritmo2](https://iudigital.instructure.com/courses/3853/files/859480/preview)"
      ]
    },
    {
      "cell_type": "markdown",
      "metadata": {
        "id": "guc_TB7_9DYq"
      },
      "source": [
        "## <strong>Condiciones del algoritmo</strong>\n",
        "\n",
        "Para que una secuencia de instrucciones pueda ser considerada como algoritmo, debe cumplir con algunas condiciones mínimas.\n",
        "\n",
        "\n",
        "*   El algoritmo debe resolver un problema\n",
        "*   El algoritmo debe ser finito\n",
        "*   Debe interactuar con datos externos y/o variables"
      ]
    },
    {
      "cell_type": "markdown",
      "source": [
        "# **Final del Contenido Cuaderno de Práctica 1**\n",
        "## **El cuaderno 2 será de módulos, variables y tipos de datos**"
      ],
      "metadata": {
        "id": "AOdcQJ8-xqbQ"
      }
    }
  ],
  "metadata": {
    "colab": {
      "provenance": []
    },
    "kernelspec": {
      "display_name": "Python 3.9.7 64-bit",
      "language": "python",
      "name": "python3"
    },
    "language_info": {
      "name": "python",
      "version": "3.9.7"
    },
    "vscode": {
      "interpreter": {
        "hash": "ad2bdc8ecc057115af97d19610ffacc2b4e99fae6737bb82f5d7fb13d2f2c186"
      }
    }
  },
  "nbformat": 4,
  "nbformat_minor": 0
}